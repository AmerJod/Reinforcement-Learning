{
 "cells": [
  {
   "cell_type": "markdown",
   "metadata": {},
   "source": [
    "# Advantage Actor Critic (A2A) with CartPole\n",
    "\n",
    "Actor Critic methods are a cross-over between policy-based and value-based methods. Policy-based methods aim to directly learn an optimal policy by maximising an objective function related to the performance of the agent in an environment, whilst value-based methods first try to estimate the future reward of each state-action pair in the environment and indirectly learn an optimal policy through these action-values. Both of these methods have their drawbacks: \n",
    "\n",
    "#### Value-based:\n",
    "    - Works well with a finite action-space, but does not scale to large action-spaces.\n",
    "    - Often do not converge, as a small change in value-space can cause a large deviation in policy-space.\n",
    "    \n",
    "#### Policy-based:\n",
    "    - Directly optimising in policy-space results in smoother learning, but tends to converge towards local-minima.\n",
    "    - Suffers from high variance as updates occur on an episodic basis. \n",
    "    - Often slow to learn.\n",
    "    \n",
    "By combining these approaches, some of the problems that come with the individual approaches can be alleviated. \n",
    "\n",
    "In actor-critic methods, there are two separate models. One model, known as the critic, is used to estimate the action-values of the environment. The other model, known as the actor, is used to learn a policy-function with the help of the action-values learned by the critic. Since the policy-updates can occur during the episode, using bootstrapped values obtained by the critic, the overall variance of the agent is reduced. As a result, the actor-critic methods are often faster than policy-based methods alone and have nicer convergence properties than value-based methods. Additionally, actor-critic methods can be used when the action space is continuous and are able to learn stochastic policies."
   ]
  },
  {
   "cell_type": "markdown",
   "metadata": {},
   "source": [
    "#### Import necessary modules"
   ]
  },
  {
   "cell_type": "code",
   "execution_count": 49,
   "metadata": {},
   "outputs": [],
   "source": [
    "import gym\n",
    "import torch\n",
    "import numpy as np\n",
    "import matplotlib.pyplot as plt\n",
    "from actor_critic import ActorCritic, Agent"
   ]
  },
  {
   "cell_type": "markdown",
   "metadata": {},
   "source": [
    "#### Set up the CartPole environment and hyperparameters for the agent + networks"
   ]
  },
  {
   "cell_type": "code",
   "execution_count": 43,
   "metadata": {},
   "outputs": [
    {
     "name": "stdout",
     "output_type": "stream",
     "text": [
      "\u001b[33mWARN: gym.spaces.Box autodetected dtype as <class 'numpy.float32'>. Please provide explicit dtype.\u001b[0m\n"
     ]
    }
   ],
   "source": [
    "# Set up the CartPole Environment.\n",
    "env = gym.make(\"CartPole-v0\")\n",
    "\n",
    "# Retrieve the state space and action space objects for CartPole.\n",
    "state_space = env.observation_space\n",
    "action_space = env.action_space\n",
    "p_hidden_size = 32\n",
    "v_hidden_size = 32\n",
    "\n",
    "episodes = 1000\n",
    "discount = 0.99\n",
    "\n",
    "runs = 50"
   ]
  },
  {
   "cell_type": "markdown",
   "metadata": {},
   "source": [
    "#### Run experiments (50 experiments for learning CartPole over 1000 episodes)"
   ]
  },
  {
   "cell_type": "code",
   "execution_count": null,
   "metadata": {},
   "outputs": [],
   "source": [
    "run_rewards = []\n",
    "\n",
    "# For the number of experiments set\n",
    "for run in range(runs):\n",
    "    \n",
    "    # Instantiate the actor-critic model\n",
    "    model = ActorCritic(state_space, action_space, p_hidden_size, v_hidden_size)\n",
    "    \n",
    "    # Instantiate the agent\n",
    "    agent = Agent(model)\n",
    "\n",
    "    # Set up the loss function and optimiser for the NNs.\n",
    "    optimiser = torch.optim.RMSprop(model.parameters())\n",
    "    \n",
    "    # Cache the episodic rewards\n",
    "    episode_rewards = []\n",
    "\n",
    "    # For each episode in a run.\n",
    "    for episode in range(episodes):\n",
    "        # Reset the policy and value history of the agent.\n",
    "        agent.reset_history()\n",
    "        \n",
    "        # Reset the environment and store the initial state\n",
    "        state = torch.Tensor(env.reset())\n",
    "\n",
    "        # Store the total reward of an episode\n",
    "        total_reward = 0\n",
    "        \n",
    "        # Set boolean flag to say whether the episode has ended or not.\n",
    "        done = False\n",
    "        \n",
    "        # Whilst the episode has not finished.\n",
    "        while not done:\n",
    "            \n",
    "            # Use the agent's policy to select an action, given a state.\n",
    "            action = agent.select_move(state)\n",
    "            \n",
    "            # Perform the selected action in the environment and receive\n",
    "            # the next state, reward, and whether the episode is finished.\n",
    "            next_state, reward, done, info = env.step(action.data.numpy())\n",
    "\n",
    "            # Cache the reward at time t\n",
    "            agent.policy_reward.append(reward)\n",
    "\n",
    "            # Set the current state to the next state.\n",
    "            state = torch.Tensor(next_state)\n",
    "            \n",
    "            # Update the total reward.\n",
    "            total_reward += reward\n",
    "\n",
    "        # Cache the total reward of the episodes\n",
    "        episode_rewards.append(total_reward)\n",
    "        \n",
    "        # Cache the discounted rewards at each step of the episode\n",
    "        rewards = []\n",
    "        R = 0\n",
    "\n",
    "        # Calculate the discounted reward at each step of the episode.\n",
    "        for r in agent.policy_reward[::-1]:\n",
    "            R = r + discount * R\n",
    "            rewards.insert(0, R)\n",
    "\n",
    "        # Normalise the rewards for stability.\n",
    "        rewards = torch.FloatTensor(rewards).view(-1, 1)\n",
    "        rewards = (rewards - rewards.mean()) / (rewards.std())\n",
    "\n",
    "        # Retrieve the log probabilities of the actions over time.\n",
    "        log_pi_t = agent.policy_history\n",
    "        \n",
    "        # Retrieve the values of each state over time.\n",
    "        v_s_t = agent.value_history\n",
    "        \n",
    "        # Calculate the advantage.\n",
    "        advantage = rewards - v_s_t\n",
    "\n",
    "        # Calculate the policy loss\n",
    "        policy_loss = (-log_pi_t * advantage.detach()).mean()\n",
    "\n",
    "        # Calculate the value loss (MSE)\n",
    "        value_loss = advantage.pow(2).mean()\n",
    "        \n",
    "        # Combine the two losses together\n",
    "        loss = policy_loss + 0.5 * value_loss        \n",
    "\n",
    "        # Zero the gradients in the optimiser\n",
    "        optimiser.zero_grad()\n",
    "\n",
    "        # Retrieve gradients of the loss with respect to the networks' parameters.\n",
    "        loss.backward()\n",
    "\n",
    "        # Take a gradient descent step.\n",
    "        optimiser.step()\n",
    "    \n",
    "    # Cache the episodic rewards over each run.\n",
    "    run_rewards.append(episode_rewards)\n"
   ]
  },
  {
   "cell_type": "markdown",
   "metadata": {},
   "source": [
    "#### Plot the moving average of the agent over a number of episodes"
   ]
  },
  {
   "cell_type": "code",
   "execution_count": 50,
   "metadata": {},
   "outputs": [
    {
     "data": {
      "image/png": "[encoded data removed]",
      "text/plain": [
       "<Figure size 432x288 with 1 Axes>"
      ]
     },
     "metadata": {},
     "output_type": "display_data"
    }
   ],
   "source": [
    "%matplotlib inline\n",
    "def moving_average(a, n=20) :\n",
    "    ret = np.cumsum(a, dtype=float)\n",
    "    ret[n:] = ret[n:] - ret[:-n]\n",
    "    return ret[n - 1:] / n\n",
    "\n",
    "means = np.mean([moving_average(rewards) for rewards in run_rewards], axis=0)\n",
    "stds = np.std([moving_average(rewards) for rewards in run_rewards], axis=0)\n",
    "\n",
    "plt.plot(range(len(means)), means, color='red')\n",
    "\n",
    "plt.fill_between(range(len(means)), means, means + stds, color='blue', alpha=.25)\n",
    "plt.fill_between(range(len(means)), means, means - stds, color='blue', alpha=.25)\n",
    "\n",
    "plt.title('Performance of Agent vs Number of Episodes \\n(50 runs, 1 std, moving_avg=20)')\n",
    "plt.xlabel('Number of Episodes')\n",
    "plt.ylabel('Total Reward of Episode')\n",
    "\n",
    "plt.show()"
   ]
  }
 ],
 "metadata": {
  "kernelspec": {
   "display_name": "Python 3",
   "language": "python",
   "name": "python3"
  },
  "language_info": {
   "codemirror_mode": {
    "name": "ipython",
    "version": 3
   },
   "file_extension": ".py",
   "mimetype": "text/x-python",
   "name": "python",
   "nbconvert_exporter": "python",
   "pygments_lexer": "ipython3",
   "version": "3.7.0"
  }
 },
 "nbformat": 4,
 "nbformat_minor": 2
}
